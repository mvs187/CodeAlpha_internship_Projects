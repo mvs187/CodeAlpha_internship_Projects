{
 "cells": [
  {
   "cell_type": "code",
   "execution_count": null,
   "id": "b4d535ff",
   "metadata": {},
   "outputs": [],
   "source": [
    "import pandas as pd\n",
    "from sklearn.model_selection import train_test_split\n",
    "from sklearn.linear_model import LinearRegression\n",
    "from sklearn.preprocessing import StandardScaler, OneHotEncoder\n",
    "from sklearn.compose import ColumnTransformer\n",
    "from sklearn.pipeline import Pipeline\n",
    "from sklearn.metrics import mean_squared_error, r2_score\n",
    "import matplotlib.pyplot as plt\n",
    "import seaborn as sns"
   ]
  },
  {
   "cell_type": "code",
   "execution_count": null,
   "id": "8721065a",
   "metadata": {},
   "outputs": [],
   "source": [
    "# Load the dataset\n",
    "df = pd.read_csv('hotel_bookings.csv')\n",
    "\n",
    "# Display the first few rows of the dataset\n",
    "df.head()"
   ]
  },
  {
   "cell_type": "code",
   "execution_count": null,
   "id": "907df11c",
   "metadata": {},
   "outputs": [],
   "source": [
    "df.shape"
   ]
  },
  {
   "cell_type": "code",
   "execution_count": null,
   "id": "645cea75",
   "metadata": {},
   "outputs": [],
   "source": [
    "df.nunique()"
   ]
  },
  {
   "cell_type": "code",
   "execution_count": null,
   "id": "70e596c4",
   "metadata": {},
   "outputs": [],
   "source": [
    "# Check for missing values and general information\n",
    "df.info()"
   ]
  },
  {
   "cell_type": "code",
   "execution_count": null,
   "id": "a407f2ce",
   "metadata": {},
   "outputs": [],
   "source": [
    "df.isna().sum()"
   ]
  },
  {
   "cell_type": "code",
   "execution_count": null,
   "id": "663bc049",
   "metadata": {},
   "outputs": [],
   "source": [
    "df.describe()"
   ]
  },
  {
   "cell_type": "code",
   "execution_count": null,
   "id": "b7fc5454",
   "metadata": {},
   "outputs": [],
   "source": [
    "df.columns"
   ]
  },
  {
   "cell_type": "code",
   "execution_count": null,
   "id": "55d3bc93",
   "metadata": {},
   "outputs": [],
   "source": [
    "df.isnull().sum()"
   ]
  },
  {
   "cell_type": "code",
   "execution_count": null,
   "id": "56d8d945",
   "metadata": {},
   "outputs": [],
   "source": [
    "# Preprocess the data\n",
    "df.columns = df.columns.str.strip().str.lower().str.replace(' ', '_').str.replace('(', '').str.replace(')', '')\n",
    "df.fillna(0, inplace=True)"
   ]
  },
  {
   "cell_type": "code",
   "execution_count": null,
   "id": "3907823a",
   "metadata": {},
   "outputs": [],
   "source": [
    "# Convert categorical columns to strings to ensure uniform data type\n",
    "categorical_features = ['hotel', 'arrival_date_month', 'meal', 'country', 'market_segment',\n",
    "                        'distribution_channel', 'reserved_room_type', 'assigned_room_type',\n",
    "                        'deposit_type', 'agent', 'company', 'customer_type']\n",
    "df[categorical_features] = df[categorical_features].astype(str)"
   ]
  },
  {
   "cell_type": "code",
   "execution_count": null,
   "id": "3026adaf",
   "metadata": {},
   "outputs": [],
   "source": [
    "# Define features and target\n",
    "X = df[['hotel', 'lead_time', 'arrival_date_year', 'arrival_date_month', 'arrival_date_week_number',\n",
    "        'arrival_date_day_of_month', 'stays_in_weekend_nights', 'stays_in_week_nights', 'adults',\n",
    "        'children', 'babies', 'meal', 'country', 'market_segment', 'distribution_channel',\n",
    "        'is_repeated_guest', 'previous_cancellations', 'previous_bookings_not_canceled',\n",
    "        'reserved_room_type', 'assigned_room_type', 'booking_changes', 'deposit_type', 'agent',\n",
    "        'company', 'days_in_waiting_list', 'customer_type', 'required_car_parking_spaces',\n",
    "        'total_of_special_requests']]\n",
    "y = df['adr']"
   ]
  },
  {
   "cell_type": "code",
   "execution_count": null,
   "id": "ac11602f",
   "metadata": {},
   "outputs": [],
   "source": [
    "# Preprocessor\n",
    "preprocessor = ColumnTransformer(\n",
    "    transformers=[\n",
    "        ('num', StandardScaler(), ['lead_time', 'arrival_date_year', 'arrival_date_week_number', \n",
    "                                   'arrival_date_day_of_month', 'stays_in_weekend_nights', \n",
    "                                   'stays_in_week_nights', 'adults', 'children', 'babies', \n",
    "                                   'is_repeated_guest', 'previous_cancellations', \n",
    "                                   'previous_bookings_not_canceled', 'booking_changes', \n",
    "                                   'days_in_waiting_list', 'required_car_parking_spaces', \n",
    "                                   'total_of_special_requests']),\n",
    "        ('cat', OneHotEncoder(handle_unknown='ignore'), categorical_features)])"
   ]
  },
  {
   "cell_type": "code",
   "execution_count": null,
   "id": "85101fde",
   "metadata": {},
   "outputs": [],
   "source": [
    "# Split the data into training and testing sets\n",
    "X_train, X_test, y_train, y_test = train_test_split(X, y, test_size=0.2, random_state=42)"
   ]
  },
  {
   "cell_type": "code",
   "execution_count": null,
   "id": "802c3cb5",
   "metadata": {},
   "outputs": [],
   "source": [
    "# Create and train the pipeline\n",
    "pipeline = Pipeline(steps=[('preprocessor', preprocessor), ('model', LinearRegression())])\n",
    "pipeline.fit(X_train, y_train)"
   ]
  },
  {
   "cell_type": "code",
   "execution_count": null,
   "id": "8ccf6557",
   "metadata": {},
   "outputs": [],
   "source": [
    "# Make predictions\n",
    "y_pred = pipeline.predict(X_test)"
   ]
  },
  {
   "cell_type": "code",
   "execution_count": null,
   "id": "073bfb51",
   "metadata": {},
   "outputs": [],
   "source": [
    "# Evaluate the model\n",
    "mse = mean_squared_error(y_test, y_pred)\n",
    "r2 = r2_score(y_test, y_pred)\n",
    "print(f'Mean Squared Error: {mse}')\n",
    "print(f'R^2 Score: {r2}')"
   ]
  },
  {
   "cell_type": "code",
   "execution_count": null,
   "id": "b69a54e7",
   "metadata": {},
   "outputs": [],
   "source": [
    "# Plot the true vs predicted values\n",
    "plt.scatter(y_test, y_pred)\n",
    "plt.xlabel('True Values')\n",
    "plt.ylabel('Predictions')\n",
    "plt.title('True vs Predicted Values')\n",
    "plt.show()"
   ]
  },
  {
   "cell_type": "code",
   "execution_count": null,
   "id": "b071c1c5",
   "metadata": {},
   "outputs": [],
   "source": [
    "# Plot residuals\n",
    "residuals = y_test - y_pred\n",
    "sns.histplot(residuals, kde=True)\n",
    "plt.title('Residuals Distribution')\n",
    "plt.show()"
   ]
  }
 ],
 "metadata": {
  "kernelspec": {
   "display_name": "Python 3 (ipykernel)",
   "language": "python",
   "name": "python3"
  },
  "language_info": {
   "codemirror_mode": {
    "name": "ipython",
    "version": 3
   },
   "file_extension": ".py",
   "mimetype": "text/x-python",
   "name": "python",
   "nbconvert_exporter": "python",
   "pygments_lexer": "ipython3",
   "version": "3.10.1"
  }
 },
 "nbformat": 4,
 "nbformat_minor": 5
}
